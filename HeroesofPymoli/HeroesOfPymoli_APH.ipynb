{
 "cells": [
  {
   "cell_type": "markdown",
   "metadata": {},
   "source": [
    "### Note\n",
    "* Instructions have been included for each segment. You do not have to follow them exactly, but they are included to help you think through the steps."
   ]
  },
  {
   "cell_type": "code",
   "execution_count": 215,
   "metadata": {},
   "outputs": [
    {
     "data": {
      "text/html": [
       "<div>\n",
       "<style scoped>\n",
       "    .dataframe tbody tr th:only-of-type {\n",
       "        vertical-align: middle;\n",
       "    }\n",
       "\n",
       "    .dataframe tbody tr th {\n",
       "        vertical-align: top;\n",
       "    }\n",
       "\n",
       "    .dataframe thead th {\n",
       "        text-align: right;\n",
       "    }\n",
       "</style>\n",
       "<table border=\"1\" class=\"dataframe\">\n",
       "  <thead>\n",
       "    <tr style=\"text-align: right;\">\n",
       "      <th></th>\n",
       "      <th>Purchase ID</th>\n",
       "      <th>SN</th>\n",
       "      <th>Age</th>\n",
       "      <th>Gender</th>\n",
       "      <th>Item ID</th>\n",
       "      <th>Item Name</th>\n",
       "      <th>Price</th>\n",
       "    </tr>\n",
       "  </thead>\n",
       "  <tbody>\n",
       "    <tr>\n",
       "      <th>0</th>\n",
       "      <td>0</td>\n",
       "      <td>Lisim78</td>\n",
       "      <td>20</td>\n",
       "      <td>Male</td>\n",
       "      <td>108</td>\n",
       "      <td>Extraction, Quickblade Of Trembling Hands</td>\n",
       "      <td>3.53</td>\n",
       "    </tr>\n",
       "    <tr>\n",
       "      <th>1</th>\n",
       "      <td>1</td>\n",
       "      <td>Lisovynya38</td>\n",
       "      <td>40</td>\n",
       "      <td>Male</td>\n",
       "      <td>143</td>\n",
       "      <td>Frenzied Scimitar</td>\n",
       "      <td>1.56</td>\n",
       "    </tr>\n",
       "    <tr>\n",
       "      <th>2</th>\n",
       "      <td>2</td>\n",
       "      <td>Ithergue48</td>\n",
       "      <td>24</td>\n",
       "      <td>Male</td>\n",
       "      <td>92</td>\n",
       "      <td>Final Critic</td>\n",
       "      <td>4.88</td>\n",
       "    </tr>\n",
       "    <tr>\n",
       "      <th>3</th>\n",
       "      <td>3</td>\n",
       "      <td>Chamassasya86</td>\n",
       "      <td>24</td>\n",
       "      <td>Male</td>\n",
       "      <td>100</td>\n",
       "      <td>Blindscythe</td>\n",
       "      <td>3.27</td>\n",
       "    </tr>\n",
       "    <tr>\n",
       "      <th>4</th>\n",
       "      <td>4</td>\n",
       "      <td>Iskosia90</td>\n",
       "      <td>23</td>\n",
       "      <td>Male</td>\n",
       "      <td>131</td>\n",
       "      <td>Fury</td>\n",
       "      <td>1.44</td>\n",
       "    </tr>\n",
       "  </tbody>\n",
       "</table>\n",
       "</div>"
      ],
      "text/plain": [
       "   Purchase ID             SN  Age Gender  Item ID  \\\n",
       "0            0        Lisim78   20   Male      108   \n",
       "1            1    Lisovynya38   40   Male      143   \n",
       "2            2     Ithergue48   24   Male       92   \n",
       "3            3  Chamassasya86   24   Male      100   \n",
       "4            4      Iskosia90   23   Male      131   \n",
       "\n",
       "                                   Item Name  Price  \n",
       "0  Extraction, Quickblade Of Trembling Hands   3.53  \n",
       "1                          Frenzied Scimitar   1.56  \n",
       "2                               Final Critic   4.88  \n",
       "3                                Blindscythe   3.27  \n",
       "4                                       Fury   1.44  "
      ]
     },
     "execution_count": 215,
     "metadata": {},
     "output_type": "execute_result"
    }
   ],
   "source": [
    "# Dependencies and Setup\n",
    "import pandas as pd\n",
    "import numpy as np\n",
    "\n",
    "# File to Load (Remember to Change These)\n",
    "file_to_load = \"Resources/purchase_data.csv\"\n",
    "\n",
    "# Read Purchasing File and store into Pandas data frame\n",
    "purchase_data = pd.read_csv(file_to_load)\n",
    "purchase_data.head()"
   ]
  },
  {
   "cell_type": "markdown",
   "metadata": {},
   "source": [
    "## Player Count"
   ]
  },
  {
   "cell_type": "markdown",
   "metadata": {},
   "source": [
    "* Display the total number of players\n"
   ]
  },
  {
   "cell_type": "code",
   "execution_count": 216,
   "metadata": {},
   "outputs": [
    {
     "data": {
      "text/html": [
       "<div>\n",
       "<style scoped>\n",
       "    .dataframe tbody tr th:only-of-type {\n",
       "        vertical-align: middle;\n",
       "    }\n",
       "\n",
       "    .dataframe tbody tr th {\n",
       "        vertical-align: top;\n",
       "    }\n",
       "\n",
       "    .dataframe thead th {\n",
       "        text-align: right;\n",
       "    }\n",
       "</style>\n",
       "<table border=\"1\" class=\"dataframe\">\n",
       "  <thead>\n",
       "    <tr style=\"text-align: right;\">\n",
       "      <th></th>\n",
       "      <th>Total Players</th>\n",
       "    </tr>\n",
       "  </thead>\n",
       "  <tbody>\n",
       "    <tr>\n",
       "      <th>0</th>\n",
       "      <td>576</td>\n",
       "    </tr>\n",
       "  </tbody>\n",
       "</table>\n",
       "</div>"
      ],
      "text/plain": [
       "   Total Players\n",
       "0            576"
      ]
     },
     "execution_count": 216,
     "metadata": {},
     "output_type": "execute_result"
    }
   ],
   "source": [
    "player_ct = len(purchase_data[\"SN\"].value_counts())\n",
    "\n",
    "player_ct_df = pd.DataFrame({\"Total Players\": [player_ct]})\n",
    "player_ct_df"
   ]
  },
  {
   "cell_type": "markdown",
   "metadata": {},
   "source": [
    "## Purchasing Analysis (Total)"
   ]
  },
  {
   "cell_type": "markdown",
   "metadata": {},
   "source": [
    "* Run basic calculations to obtain number of unique items, average price, etc.\n",
    "\n",
    "\n",
    "* Create a summary data frame to hold the results\n",
    "\n",
    "\n",
    "* Optional: give the displayed data cleaner formatting\n",
    "\n",
    "\n",
    "* Display the summary data frame\n"
   ]
  },
  {
   "cell_type": "code",
   "execution_count": 217,
   "metadata": {
    "scrolled": true
   },
   "outputs": [
    {
     "data": {
      "text/html": [
       "<style  type=\"text/css\" >\n",
       "</style><table id=\"T_74fb91e0_71f1_11ea_a3cc_acde48001122\" ><thead>    <tr>        <th class=\"blank level0\" ></th>        <th class=\"col_heading level0 col0\" >Number of Unique Items</th>        <th class=\"col_heading level0 col1\" >Average Price</th>        <th class=\"col_heading level0 col2\" >Total Purchases</th>        <th class=\"col_heading level0 col3\" >Total Revenue</th>    </tr></thead><tbody>\n",
       "                <tr>\n",
       "                        <th id=\"T_74fb91e0_71f1_11ea_a3cc_acde48001122level0_row0\" class=\"row_heading level0 row0\" >0</th>\n",
       "                        <td id=\"T_74fb91e0_71f1_11ea_a3cc_acde48001122row0_col0\" class=\"data row0 col0\" >183</td>\n",
       "                        <td id=\"T_74fb91e0_71f1_11ea_a3cc_acde48001122row0_col1\" class=\"data row0 col1\" >$3.05</td>\n",
       "                        <td id=\"T_74fb91e0_71f1_11ea_a3cc_acde48001122row0_col2\" class=\"data row0 col2\" >780</td>\n",
       "                        <td id=\"T_74fb91e0_71f1_11ea_a3cc_acde48001122row0_col3\" class=\"data row0 col3\" >$2,379.77</td>\n",
       "            </tr>\n",
       "    </tbody></table>"
      ],
      "text/plain": [
       "<pandas.io.formats.style.Styler at 0x1244bf290>"
      ]
     },
     "execution_count": 217,
     "metadata": {},
     "output_type": "execute_result"
    }
   ],
   "source": [
    "Analysis_table = pd.DataFrame({\"Number of Unique Items\": [len(purchase_data[\"Item ID\"].value_counts())],\n",
    "                                \"Average Price\": [purchase_data[\"Price\"].mean()] ,\n",
    "                              \"Total Purchases\": [purchase_data[\"Purchase ID\"].count()],\n",
    "                              \"Total Revenue\":[purchase_data[\"Price\"].sum()]})\n",
    "\n",
    "Analysis_table.style.format({'Average Price':\"${:,.2f}\", 'Total Purchases':\"{:,}\",'Total Revenue': '${:,.2f}'})"
   ]
  },
  {
   "cell_type": "markdown",
   "metadata": {},
   "source": [
    "## Gender Demographics"
   ]
  },
  {
   "cell_type": "markdown",
   "metadata": {},
   "source": [
    "* Percentage and Count of Male Players\n",
    "\n",
    "\n",
    "* Percentage and Count of Female Players\n",
    "\n",
    "\n",
    "* Percentage and Count of Other / Non-Disclosed\n",
    "\n",
    "\n"
   ]
  },
  {
   "cell_type": "code",
   "execution_count": 225,
   "metadata": {},
   "outputs": [
    {
     "data": {
      "text/html": [
       "<style  type=\"text/css\" >\n",
       "</style><table id=\"T_f90ba89e_71f1_11ea_a3cc_acde48001122\" ><thead>    <tr>        <th class=\"blank level0\" ></th>        <th class=\"col_heading level0 col0\" >Total Count</th>        <th class=\"col_heading level0 col1\" >Percentage of Players</th>    </tr>    <tr>        <th class=\"index_name level0\" >Gender</th>        <th class=\"blank\" ></th>        <th class=\"blank\" ></th>    </tr></thead><tbody>\n",
       "                <tr>\n",
       "                        <th id=\"T_f90ba89e_71f1_11ea_a3cc_acde48001122level0_row0\" class=\"row_heading level0 row0\" >Male</th>\n",
       "                        <td id=\"T_f90ba89e_71f1_11ea_a3cc_acde48001122row0_col0\" class=\"data row0 col0\" >484</td>\n",
       "                        <td id=\"T_f90ba89e_71f1_11ea_a3cc_acde48001122row0_col1\" class=\"data row0 col1\" >84.03%</td>\n",
       "            </tr>\n",
       "            <tr>\n",
       "                        <th id=\"T_f90ba89e_71f1_11ea_a3cc_acde48001122level0_row1\" class=\"row_heading level0 row1\" >Female</th>\n",
       "                        <td id=\"T_f90ba89e_71f1_11ea_a3cc_acde48001122row1_col0\" class=\"data row1 col0\" >81</td>\n",
       "                        <td id=\"T_f90ba89e_71f1_11ea_a3cc_acde48001122row1_col1\" class=\"data row1 col1\" >14.06%</td>\n",
       "            </tr>\n",
       "            <tr>\n",
       "                        <th id=\"T_f90ba89e_71f1_11ea_a3cc_acde48001122level0_row2\" class=\"row_heading level0 row2\" >Other / Non-Disclosed</th>\n",
       "                        <td id=\"T_f90ba89e_71f1_11ea_a3cc_acde48001122row2_col0\" class=\"data row2 col0\" >11</td>\n",
       "                        <td id=\"T_f90ba89e_71f1_11ea_a3cc_acde48001122row2_col1\" class=\"data row2 col1\" >1.91%</td>\n",
       "            </tr>\n",
       "    </tbody></table>"
      ],
      "text/plain": [
       "<pandas.io.formats.style.Styler at 0x12302d3d0>"
      ]
     },
     "execution_count": 225,
     "metadata": {},
     "output_type": "execute_result"
    }
   ],
   "source": [
    "gender_group = purchase_data.groupby(['Gender'])\n",
    "\n",
    "gender_ct = gender_group.nunique()[\"SN\"]\n",
    "\n",
    "gender_demo = pd.DataFrame({\"Total Count\": gender_ct, \"Percentage of Players\": (gender_count / player_ct *100)})\n",
    "\n",
    "gender_demo.sort_values([\"Total Count\"], ascending = False).style.format({\"Percentage of Players\":\"{:.2f}%\"})\n",
    "    "
   ]
  },
  {
   "cell_type": "markdown",
   "metadata": {},
   "source": [
    "\n",
    "## Purchasing Analysis (Gender)"
   ]
  },
  {
   "cell_type": "markdown",
   "metadata": {},
   "source": [
    "* Run basic calculations to obtain purchase count, avg. purchase price, avg. purchase total per person etc. by gender\n",
    "\n",
    "\n",
    "\n",
    "\n",
    "* Create a summary data frame to hold the results\n",
    "\n",
    "\n",
    "* Optional: give the displayed data cleaner formatting\n",
    "\n",
    "\n",
    "* Display the summary data frame"
   ]
  },
  {
   "cell_type": "code",
   "execution_count": 240,
   "metadata": {},
   "outputs": [
    {
     "data": {
      "text/html": [
       "<style  type=\"text/css\" >\n",
       "</style><table id=\"T_10c50898_71f4_11ea_a3cc_acde48001122\" ><thead>    <tr>        <th class=\"blank level0\" ></th>        <th class=\"col_heading level0 col0\" >Purchase Count</th>        <th class=\"col_heading level0 col1\" >Average Purchasing Price</th>        <th class=\"col_heading level0 col2\" >Total Purchase Value</th>        <th class=\"col_heading level0 col3\" >Average Total Purchase / Person</th>    </tr>    <tr>        <th class=\"index_name level0\" >Gender</th>        <th class=\"blank\" ></th>        <th class=\"blank\" ></th>        <th class=\"blank\" ></th>        <th class=\"blank\" ></th>    </tr></thead><tbody>\n",
       "                <tr>\n",
       "                        <th id=\"T_10c50898_71f4_11ea_a3cc_acde48001122level0_row0\" class=\"row_heading level0 row0\" >Male</th>\n",
       "                        <td id=\"T_10c50898_71f4_11ea_a3cc_acde48001122row0_col0\" class=\"data row0 col0\" >652</td>\n",
       "                        <td id=\"T_10c50898_71f4_11ea_a3cc_acde48001122row0_col1\" class=\"data row0 col1\" >$3.02</td>\n",
       "                        <td id=\"T_10c50898_71f4_11ea_a3cc_acde48001122row0_col2\" class=\"data row0 col2\" >$1,967.64</td>\n",
       "                        <td id=\"T_10c50898_71f4_11ea_a3cc_acde48001122row0_col3\" class=\"data row0 col3\" >$4.07</td>\n",
       "            </tr>\n",
       "            <tr>\n",
       "                        <th id=\"T_10c50898_71f4_11ea_a3cc_acde48001122level0_row1\" class=\"row_heading level0 row1\" >Female</th>\n",
       "                        <td id=\"T_10c50898_71f4_11ea_a3cc_acde48001122row1_col0\" class=\"data row1 col0\" >113</td>\n",
       "                        <td id=\"T_10c50898_71f4_11ea_a3cc_acde48001122row1_col1\" class=\"data row1 col1\" >$3.20</td>\n",
       "                        <td id=\"T_10c50898_71f4_11ea_a3cc_acde48001122row1_col2\" class=\"data row1 col2\" >$361.94</td>\n",
       "                        <td id=\"T_10c50898_71f4_11ea_a3cc_acde48001122row1_col3\" class=\"data row1 col3\" >$4.47</td>\n",
       "            </tr>\n",
       "            <tr>\n",
       "                        <th id=\"T_10c50898_71f4_11ea_a3cc_acde48001122level0_row2\" class=\"row_heading level0 row2\" >Other / Non-Disclosed</th>\n",
       "                        <td id=\"T_10c50898_71f4_11ea_a3cc_acde48001122row2_col0\" class=\"data row2 col0\" >15</td>\n",
       "                        <td id=\"T_10c50898_71f4_11ea_a3cc_acde48001122row2_col1\" class=\"data row2 col1\" >$3.35</td>\n",
       "                        <td id=\"T_10c50898_71f4_11ea_a3cc_acde48001122row2_col2\" class=\"data row2 col2\" >$50.19</td>\n",
       "                        <td id=\"T_10c50898_71f4_11ea_a3cc_acde48001122row2_col3\" class=\"data row2 col3\" >$4.56</td>\n",
       "            </tr>\n",
       "    </tbody></table>"
      ],
      "text/plain": [
       "<pandas.io.formats.style.Styler at 0x12496d1d0>"
      ]
     },
     "execution_count": 240,
     "metadata": {},
     "output_type": "execute_result"
    }
   ],
   "source": [
    "purchase_ct = gender_group[\"Purchase ID\"].count() \n",
    "\n",
    "purchasing_analysis = pd.DataFrame({\"Purchase Count\": purchase_ct,\n",
    "                            \"Average Purchasing Price\": (gender_group[\"Price\"].mean()),\n",
    "                             \"Total Purchase Value\": (gender_group[\"Price\"].sum()),\n",
    "                             \"Average Total Purchase / Person\": (purchase_value / gender_ct)})\n",
    "\n",
    "purchasing_analysis.sort_values([\"Purchase Count\"], ascending = False).style.format({\"Average Purchasing Price\":\"${:,.2f}\", \"Total Purchase Value\":\"${:,.2f}\", \"Average Total Purchase / Person\":\"${:,.2f}\"})\n",
    "    "
   ]
  },
  {
   "cell_type": "markdown",
   "metadata": {},
   "source": [
    "## Age Demographics"
   ]
  },
  {
   "cell_type": "markdown",
   "metadata": {},
   "source": [
    "* Establish bins for ages\n",
    "\n",
    "\n",
    "* Categorize the existing players using the age bins. Hint: use pd.cut()\n",
    "\n",
    "\n",
    "* Calculate the numbers and percentages by age group\n",
    "\n",
    "\n",
    "* Create a summary data frame to hold the results\n",
    "\n",
    "\n",
    "* Optional: round the percentage column to two decimal points\n",
    "\n",
    "\n",
    "* Display Age Demographics Table\n"
   ]
  },
  {
   "cell_type": "code",
   "execution_count": 233,
   "metadata": {},
   "outputs": [
    {
     "data": {
      "text/html": [
       "<style  type=\"text/css\" >\n",
       "</style><table id=\"T_36097aa4_71f3_11ea_a3cc_acde48001122\" ><thead>    <tr>        <th class=\"blank level0\" ></th>        <th class=\"col_heading level0 col0\" >Total Count</th>        <th class=\"col_heading level0 col1\" >Percentage of Players</th>    </tr>    <tr>        <th class=\"index_name level0\" >Age Demo</th>        <th class=\"blank\" ></th>        <th class=\"blank\" ></th>    </tr></thead><tbody>\n",
       "                <tr>\n",
       "                        <th id=\"T_36097aa4_71f3_11ea_a3cc_acde48001122level0_row0\" class=\"row_heading level0 row0\" ><10</th>\n",
       "                        <td id=\"T_36097aa4_71f3_11ea_a3cc_acde48001122row0_col0\" class=\"data row0 col0\" >17</td>\n",
       "                        <td id=\"T_36097aa4_71f3_11ea_a3cc_acde48001122row0_col1\" class=\"data row0 col1\" >2.95%</td>\n",
       "            </tr>\n",
       "            <tr>\n",
       "                        <th id=\"T_36097aa4_71f3_11ea_a3cc_acde48001122level0_row1\" class=\"row_heading level0 row1\" >10-14</th>\n",
       "                        <td id=\"T_36097aa4_71f3_11ea_a3cc_acde48001122row1_col0\" class=\"data row1 col0\" >22</td>\n",
       "                        <td id=\"T_36097aa4_71f3_11ea_a3cc_acde48001122row1_col1\" class=\"data row1 col1\" >3.82%</td>\n",
       "            </tr>\n",
       "            <tr>\n",
       "                        <th id=\"T_36097aa4_71f3_11ea_a3cc_acde48001122level0_row2\" class=\"row_heading level0 row2\" >15-19</th>\n",
       "                        <td id=\"T_36097aa4_71f3_11ea_a3cc_acde48001122row2_col0\" class=\"data row2 col0\" >107</td>\n",
       "                        <td id=\"T_36097aa4_71f3_11ea_a3cc_acde48001122row2_col1\" class=\"data row2 col1\" >18.58%</td>\n",
       "            </tr>\n",
       "            <tr>\n",
       "                        <th id=\"T_36097aa4_71f3_11ea_a3cc_acde48001122level0_row3\" class=\"row_heading level0 row3\" >20-24</th>\n",
       "                        <td id=\"T_36097aa4_71f3_11ea_a3cc_acde48001122row3_col0\" class=\"data row3 col0\" >258</td>\n",
       "                        <td id=\"T_36097aa4_71f3_11ea_a3cc_acde48001122row3_col1\" class=\"data row3 col1\" >44.79%</td>\n",
       "            </tr>\n",
       "            <tr>\n",
       "                        <th id=\"T_36097aa4_71f3_11ea_a3cc_acde48001122level0_row4\" class=\"row_heading level0 row4\" >25-29</th>\n",
       "                        <td id=\"T_36097aa4_71f3_11ea_a3cc_acde48001122row4_col0\" class=\"data row4 col0\" >77</td>\n",
       "                        <td id=\"T_36097aa4_71f3_11ea_a3cc_acde48001122row4_col1\" class=\"data row4 col1\" >13.37%</td>\n",
       "            </tr>\n",
       "            <tr>\n",
       "                        <th id=\"T_36097aa4_71f3_11ea_a3cc_acde48001122level0_row5\" class=\"row_heading level0 row5\" >30-34</th>\n",
       "                        <td id=\"T_36097aa4_71f3_11ea_a3cc_acde48001122row5_col0\" class=\"data row5 col0\" >52</td>\n",
       "                        <td id=\"T_36097aa4_71f3_11ea_a3cc_acde48001122row5_col1\" class=\"data row5 col1\" >9.03%</td>\n",
       "            </tr>\n",
       "            <tr>\n",
       "                        <th id=\"T_36097aa4_71f3_11ea_a3cc_acde48001122level0_row6\" class=\"row_heading level0 row6\" >35-39</th>\n",
       "                        <td id=\"T_36097aa4_71f3_11ea_a3cc_acde48001122row6_col0\" class=\"data row6 col0\" >31</td>\n",
       "                        <td id=\"T_36097aa4_71f3_11ea_a3cc_acde48001122row6_col1\" class=\"data row6 col1\" >5.38%</td>\n",
       "            </tr>\n",
       "            <tr>\n",
       "                        <th id=\"T_36097aa4_71f3_11ea_a3cc_acde48001122level0_row7\" class=\"row_heading level0 row7\" >40+</th>\n",
       "                        <td id=\"T_36097aa4_71f3_11ea_a3cc_acde48001122row7_col0\" class=\"data row7 col0\" >12</td>\n",
       "                        <td id=\"T_36097aa4_71f3_11ea_a3cc_acde48001122row7_col1\" class=\"data row7 col1\" >2.08%</td>\n",
       "            </tr>\n",
       "    </tbody></table>"
      ],
      "text/plain": [
       "<pandas.io.formats.style.Styler at 0x124657790>"
      ]
     },
     "execution_count": 233,
     "metadata": {},
     "output_type": "execute_result"
    }
   ],
   "source": [
    "bins = [0, 9, 14, 19, 24, 29, 34, 39, 99]\n",
    "group_names = [\"<10\", \"10-14\", \"15-19\", \"20-24\", \"25-29\", \"30-34\", \"35-39\", \"40+\"]\n",
    "pd.cut(purchase_data[\"Age\"], bins, labels=group_names).head()\n",
    "purchase_data[\"Age Demo\"] = pd.cut(purchase_data[\"Age\"], bins, labels=group_names)\n",
    "age_group = purchase_data.groupby(\"Age Demo\")\n",
    "total_age_ct = age_group.nunique()[\"SN\"]\n",
    "\n",
    "age_demo = pd.DataFrame({\"Total Count\": total_age_ct,\"Percentage of Players\": ((total_age_ct / player_ct) * 100)})\n",
    "\n",
    "age_demo.style.format({\"Percentage of Players\":\"{:.2f}%\"})\n"
   ]
  },
  {
   "cell_type": "markdown",
   "metadata": {},
   "source": [
    "## Purchasing Analysis (Age)"
   ]
  },
  {
   "cell_type": "markdown",
   "metadata": {},
   "source": [
    "* Bin the purchase_data data frame by age\n",
    "\n",
    "\n",
    "* Run basic calculations to obtain purchase count, avg. purchase price, avg. purchase total per person etc. in the table below\n",
    "\n",
    "\n",
    "* Create a summary data frame to hold the results\n",
    "\n",
    "\n",
    "* Optional: give the displayed data cleaner formatting\n",
    "\n",
    "\n",
    "* Display the summary data frame"
   ]
  },
  {
   "cell_type": "code",
   "execution_count": 237,
   "metadata": {},
   "outputs": [
    {
     "data": {
      "text/html": [
       "<style  type=\"text/css\" >\n",
       "</style><table id=\"T_baf95aae_71f3_11ea_a3cc_acde48001122\" ><thead>    <tr>        <th class=\"blank level0\" ></th>        <th class=\"col_heading level0 col0\" >Purchase Count</th>        <th class=\"col_heading level0 col1\" >Average Purchasing Price</th>        <th class=\"col_heading level0 col2\" >Total Purchase Value</th>        <th class=\"col_heading level0 col3\" >Average Total Purchase / Person</th>    </tr>    <tr>        <th class=\"index_name level0\" >Age Demo</th>        <th class=\"blank\" ></th>        <th class=\"blank\" ></th>        <th class=\"blank\" ></th>        <th class=\"blank\" ></th>    </tr></thead><tbody>\n",
       "                <tr>\n",
       "                        <th id=\"T_baf95aae_71f3_11ea_a3cc_acde48001122level0_row0\" class=\"row_heading level0 row0\" ><10</th>\n",
       "                        <td id=\"T_baf95aae_71f3_11ea_a3cc_acde48001122row0_col0\" class=\"data row0 col0\" >23</td>\n",
       "                        <td id=\"T_baf95aae_71f3_11ea_a3cc_acde48001122row0_col1\" class=\"data row0 col1\" >$3.35</td>\n",
       "                        <td id=\"T_baf95aae_71f3_11ea_a3cc_acde48001122row0_col2\" class=\"data row0 col2\" >$77.13</td>\n",
       "                        <td id=\"T_baf95aae_71f3_11ea_a3cc_acde48001122row0_col3\" class=\"data row0 col3\" >$4.54</td>\n",
       "            </tr>\n",
       "            <tr>\n",
       "                        <th id=\"T_baf95aae_71f3_11ea_a3cc_acde48001122level0_row1\" class=\"row_heading level0 row1\" >10-14</th>\n",
       "                        <td id=\"T_baf95aae_71f3_11ea_a3cc_acde48001122row1_col0\" class=\"data row1 col0\" >28</td>\n",
       "                        <td id=\"T_baf95aae_71f3_11ea_a3cc_acde48001122row1_col1\" class=\"data row1 col1\" >$2.96</td>\n",
       "                        <td id=\"T_baf95aae_71f3_11ea_a3cc_acde48001122row1_col2\" class=\"data row1 col2\" >$82.78</td>\n",
       "                        <td id=\"T_baf95aae_71f3_11ea_a3cc_acde48001122row1_col3\" class=\"data row1 col3\" >$3.76</td>\n",
       "            </tr>\n",
       "            <tr>\n",
       "                        <th id=\"T_baf95aae_71f3_11ea_a3cc_acde48001122level0_row2\" class=\"row_heading level0 row2\" >15-19</th>\n",
       "                        <td id=\"T_baf95aae_71f3_11ea_a3cc_acde48001122row2_col0\" class=\"data row2 col0\" >136</td>\n",
       "                        <td id=\"T_baf95aae_71f3_11ea_a3cc_acde48001122row2_col1\" class=\"data row2 col1\" >$3.04</td>\n",
       "                        <td id=\"T_baf95aae_71f3_11ea_a3cc_acde48001122row2_col2\" class=\"data row2 col2\" >$412.89</td>\n",
       "                        <td id=\"T_baf95aae_71f3_11ea_a3cc_acde48001122row2_col3\" class=\"data row2 col3\" >$3.86</td>\n",
       "            </tr>\n",
       "            <tr>\n",
       "                        <th id=\"T_baf95aae_71f3_11ea_a3cc_acde48001122level0_row3\" class=\"row_heading level0 row3\" >20-24</th>\n",
       "                        <td id=\"T_baf95aae_71f3_11ea_a3cc_acde48001122row3_col0\" class=\"data row3 col0\" >365</td>\n",
       "                        <td id=\"T_baf95aae_71f3_11ea_a3cc_acde48001122row3_col1\" class=\"data row3 col1\" >$3.05</td>\n",
       "                        <td id=\"T_baf95aae_71f3_11ea_a3cc_acde48001122row3_col2\" class=\"data row3 col2\" >$1,114.06</td>\n",
       "                        <td id=\"T_baf95aae_71f3_11ea_a3cc_acde48001122row3_col3\" class=\"data row3 col3\" >$4.32</td>\n",
       "            </tr>\n",
       "            <tr>\n",
       "                        <th id=\"T_baf95aae_71f3_11ea_a3cc_acde48001122level0_row4\" class=\"row_heading level0 row4\" >25-29</th>\n",
       "                        <td id=\"T_baf95aae_71f3_11ea_a3cc_acde48001122row4_col0\" class=\"data row4 col0\" >101</td>\n",
       "                        <td id=\"T_baf95aae_71f3_11ea_a3cc_acde48001122row4_col1\" class=\"data row4 col1\" >$2.90</td>\n",
       "                        <td id=\"T_baf95aae_71f3_11ea_a3cc_acde48001122row4_col2\" class=\"data row4 col2\" >$293.00</td>\n",
       "                        <td id=\"T_baf95aae_71f3_11ea_a3cc_acde48001122row4_col3\" class=\"data row4 col3\" >$3.81</td>\n",
       "            </tr>\n",
       "            <tr>\n",
       "                        <th id=\"T_baf95aae_71f3_11ea_a3cc_acde48001122level0_row5\" class=\"row_heading level0 row5\" >30-34</th>\n",
       "                        <td id=\"T_baf95aae_71f3_11ea_a3cc_acde48001122row5_col0\" class=\"data row5 col0\" >73</td>\n",
       "                        <td id=\"T_baf95aae_71f3_11ea_a3cc_acde48001122row5_col1\" class=\"data row5 col1\" >$2.93</td>\n",
       "                        <td id=\"T_baf95aae_71f3_11ea_a3cc_acde48001122row5_col2\" class=\"data row5 col2\" >$214.00</td>\n",
       "                        <td id=\"T_baf95aae_71f3_11ea_a3cc_acde48001122row5_col3\" class=\"data row5 col3\" >$4.12</td>\n",
       "            </tr>\n",
       "            <tr>\n",
       "                        <th id=\"T_baf95aae_71f3_11ea_a3cc_acde48001122level0_row6\" class=\"row_heading level0 row6\" >35-39</th>\n",
       "                        <td id=\"T_baf95aae_71f3_11ea_a3cc_acde48001122row6_col0\" class=\"data row6 col0\" >41</td>\n",
       "                        <td id=\"T_baf95aae_71f3_11ea_a3cc_acde48001122row6_col1\" class=\"data row6 col1\" >$3.60</td>\n",
       "                        <td id=\"T_baf95aae_71f3_11ea_a3cc_acde48001122row6_col2\" class=\"data row6 col2\" >$147.67</td>\n",
       "                        <td id=\"T_baf95aae_71f3_11ea_a3cc_acde48001122row6_col3\" class=\"data row6 col3\" >$4.76</td>\n",
       "            </tr>\n",
       "            <tr>\n",
       "                        <th id=\"T_baf95aae_71f3_11ea_a3cc_acde48001122level0_row7\" class=\"row_heading level0 row7\" >40+</th>\n",
       "                        <td id=\"T_baf95aae_71f3_11ea_a3cc_acde48001122row7_col0\" class=\"data row7 col0\" >13</td>\n",
       "                        <td id=\"T_baf95aae_71f3_11ea_a3cc_acde48001122row7_col1\" class=\"data row7 col1\" >$2.94</td>\n",
       "                        <td id=\"T_baf95aae_71f3_11ea_a3cc_acde48001122row7_col2\" class=\"data row7 col2\" >$38.24</td>\n",
       "                        <td id=\"T_baf95aae_71f3_11ea_a3cc_acde48001122row7_col3\" class=\"data row7 col3\" >$3.19</td>\n",
       "            </tr>\n",
       "    </tbody></table>"
      ],
      "text/plain": [
       "<pandas.io.formats.style.Styler at 0x124655110>"
      ]
     },
     "execution_count": 237,
     "metadata": {},
     "output_type": "execute_result"
    }
   ],
   "source": [
    "total_purchase_byage = age_group[\"Purchase ID\"].count()\n",
    "\n",
    "purchasing_analysis_age = pd.DataFrame({\"Purchase Count\": total_purchase_byage,\n",
    "                            \"Average Purchasing Price\": (age_group[\"Price\"].mean()),\n",
    "                             \"Total Purchase Value\": (age_group[\"Price\"].sum()),\n",
    "                             \"Average Total Purchase / Person\": (purchase_value_byage / total_age_ct)})\n",
    "\n",
    "purchasing_analysis_age.style.format({\"Average Purchasing Price\":\"${:,.2f}\", \"Total Purchase Value\":\"${:,.2f}\", \"Average Total Purchase / Person\":\"${:,.2f}\"})\n",
    "    "
   ]
  },
  {
   "cell_type": "markdown",
   "metadata": {},
   "source": [
    "## Top Spenders"
   ]
  },
  {
   "cell_type": "markdown",
   "metadata": {},
   "source": [
    "* Run basic calculations to obtain the results in the table below\n",
    "\n",
    "\n",
    "* Create a summary data frame to hold the results\n",
    "\n",
    "\n",
    "* Sort the total purchase value column in descending order\n",
    "\n",
    "\n",
    "* Optional: give the displayed data cleaner formatting\n",
    "\n",
    "\n",
    "* Display a preview of the summary data frame\n",
    "\n"
   ]
  },
  {
   "cell_type": "code",
   "execution_count": 236,
   "metadata": {},
   "outputs": [
    {
     "data": {
      "text/html": [
       "<style  type=\"text/css\" >\n",
       "</style><table id=\"T_989015de_71f3_11ea_a3cc_acde48001122\" ><thead>    <tr>        <th class=\"blank level0\" ></th>        <th class=\"col_heading level0 col0\" >Purchase Count</th>        <th class=\"col_heading level0 col1\" >Average Purchasing Price</th>        <th class=\"col_heading level0 col2\" >Total Purchase Value</th>    </tr>    <tr>        <th class=\"index_name level0\" >SN</th>        <th class=\"blank\" ></th>        <th class=\"blank\" ></th>        <th class=\"blank\" ></th>    </tr></thead><tbody>\n",
       "                <tr>\n",
       "                        <th id=\"T_989015de_71f3_11ea_a3cc_acde48001122level0_row0\" class=\"row_heading level0 row0\" >Lisosia93</th>\n",
       "                        <td id=\"T_989015de_71f3_11ea_a3cc_acde48001122row0_col0\" class=\"data row0 col0\" >5</td>\n",
       "                        <td id=\"T_989015de_71f3_11ea_a3cc_acde48001122row0_col1\" class=\"data row0 col1\" >$3.79</td>\n",
       "                        <td id=\"T_989015de_71f3_11ea_a3cc_acde48001122row0_col2\" class=\"data row0 col2\" >$18.96</td>\n",
       "            </tr>\n",
       "            <tr>\n",
       "                        <th id=\"T_989015de_71f3_11ea_a3cc_acde48001122level0_row1\" class=\"row_heading level0 row1\" >Idastidru52</th>\n",
       "                        <td id=\"T_989015de_71f3_11ea_a3cc_acde48001122row1_col0\" class=\"data row1 col0\" >4</td>\n",
       "                        <td id=\"T_989015de_71f3_11ea_a3cc_acde48001122row1_col1\" class=\"data row1 col1\" >$3.86</td>\n",
       "                        <td id=\"T_989015de_71f3_11ea_a3cc_acde48001122row1_col2\" class=\"data row1 col2\" >$15.45</td>\n",
       "            </tr>\n",
       "            <tr>\n",
       "                        <th id=\"T_989015de_71f3_11ea_a3cc_acde48001122level0_row2\" class=\"row_heading level0 row2\" >Chamjask73</th>\n",
       "                        <td id=\"T_989015de_71f3_11ea_a3cc_acde48001122row2_col0\" class=\"data row2 col0\" >3</td>\n",
       "                        <td id=\"T_989015de_71f3_11ea_a3cc_acde48001122row2_col1\" class=\"data row2 col1\" >$4.61</td>\n",
       "                        <td id=\"T_989015de_71f3_11ea_a3cc_acde48001122row2_col2\" class=\"data row2 col2\" >$13.83</td>\n",
       "            </tr>\n",
       "            <tr>\n",
       "                        <th id=\"T_989015de_71f3_11ea_a3cc_acde48001122level0_row3\" class=\"row_heading level0 row3\" >Iral74</th>\n",
       "                        <td id=\"T_989015de_71f3_11ea_a3cc_acde48001122row3_col0\" class=\"data row3 col0\" >4</td>\n",
       "                        <td id=\"T_989015de_71f3_11ea_a3cc_acde48001122row3_col1\" class=\"data row3 col1\" >$3.40</td>\n",
       "                        <td id=\"T_989015de_71f3_11ea_a3cc_acde48001122row3_col2\" class=\"data row3 col2\" >$13.62</td>\n",
       "            </tr>\n",
       "            <tr>\n",
       "                        <th id=\"T_989015de_71f3_11ea_a3cc_acde48001122level0_row4\" class=\"row_heading level0 row4\" >Iskadarya95</th>\n",
       "                        <td id=\"T_989015de_71f3_11ea_a3cc_acde48001122row4_col0\" class=\"data row4 col0\" >3</td>\n",
       "                        <td id=\"T_989015de_71f3_11ea_a3cc_acde48001122row4_col1\" class=\"data row4 col1\" >$4.37</td>\n",
       "                        <td id=\"T_989015de_71f3_11ea_a3cc_acde48001122row4_col2\" class=\"data row4 col2\" >$13.10</td>\n",
       "            </tr>\n",
       "    </tbody></table>"
      ],
      "text/plain": [
       "<pandas.io.formats.style.Styler at 0x124657b10>"
      ]
     },
     "execution_count": 236,
     "metadata": {},
     "output_type": "execute_result"
    }
   ],
   "source": [
    "top_spender_group = purchase_data.groupby(['SN'])\n",
    "                        \n",
    "top_spender_analysis = pd.DataFrame({\"Purchase Count\": (top_spender_group[\"Purchase ID\"].count()),\n",
    "                                \"Average Purchasing Price\": (top_spender_group[\"Price\"].mean()),\n",
    "                              \"Total Purchase Value\": (top_spender_group[\"Price\"].sum())})\n",
    "top_spender_analysis.sort_values([\"Total Purchase Value\"], ascending = False).head().style.format({\"Average Purchasing Price\":\"${:,.2f}\", \"Total Purchase Value\":\"${:,.2f}\"})"
   ]
  },
  {
   "cell_type": "markdown",
   "metadata": {},
   "source": [
    "## Most Popular Items"
   ]
  },
  {
   "cell_type": "markdown",
   "metadata": {},
   "source": [
    "* Retrieve the Item ID, Item Name, and Item Price columns\n",
    "\n",
    "\n",
    "* Group by Item ID and Item Name. Perform calculations to obtain purchase count, item price, and total purchase value\n",
    "\n",
    "\n",
    "* Create a summary data frame to hold the results\n",
    "\n",
    "\n",
    "* Sort the purchase count column in descending order\n",
    "\n",
    "\n",
    "* Optional: give the displayed data cleaner formatting\n",
    "\n",
    "\n",
    "* Display a preview of the summary data frame\n",
    "\n"
   ]
  },
  {
   "cell_type": "code",
   "execution_count": 238,
   "metadata": {},
   "outputs": [
    {
     "data": {
      "text/html": [
       "<style  type=\"text/css\" >\n",
       "</style><table id=\"T_d81f6894_71f3_11ea_a3cc_acde48001122\" ><thead>    <tr>        <th class=\"blank\" ></th>        <th class=\"blank level0\" ></th>        <th class=\"col_heading level0 col0\" >Purchase Count</th>        <th class=\"col_heading level0 col1\" >Item Price</th>        <th class=\"col_heading level0 col2\" >Total Purchase Value</th>    </tr>    <tr>        <th class=\"index_name level0\" >Item ID</th>        <th class=\"index_name level1\" >Item Name</th>        <th class=\"blank\" ></th>        <th class=\"blank\" ></th>        <th class=\"blank\" ></th>    </tr></thead><tbody>\n",
       "                <tr>\n",
       "                        <th id=\"T_d81f6894_71f3_11ea_a3cc_acde48001122level0_row0\" class=\"row_heading level0 row0\" >178</th>\n",
       "                        <th id=\"T_d81f6894_71f3_11ea_a3cc_acde48001122level1_row0\" class=\"row_heading level1 row0\" >Oathbreaker, Last Hope of the Breaking Storm</th>\n",
       "                        <td id=\"T_d81f6894_71f3_11ea_a3cc_acde48001122row0_col0\" class=\"data row0 col0\" >12</td>\n",
       "                        <td id=\"T_d81f6894_71f3_11ea_a3cc_acde48001122row0_col1\" class=\"data row0 col1\" >$4.23</td>\n",
       "                        <td id=\"T_d81f6894_71f3_11ea_a3cc_acde48001122row0_col2\" class=\"data row0 col2\" >$50.76</td>\n",
       "            </tr>\n",
       "            <tr>\n",
       "                        <th id=\"T_d81f6894_71f3_11ea_a3cc_acde48001122level0_row1\" class=\"row_heading level0 row1\" >145</th>\n",
       "                        <th id=\"T_d81f6894_71f3_11ea_a3cc_acde48001122level1_row1\" class=\"row_heading level1 row1\" >Fiery Glass Crusader</th>\n",
       "                        <td id=\"T_d81f6894_71f3_11ea_a3cc_acde48001122row1_col0\" class=\"data row1 col0\" >9</td>\n",
       "                        <td id=\"T_d81f6894_71f3_11ea_a3cc_acde48001122row1_col1\" class=\"data row1 col1\" >$4.58</td>\n",
       "                        <td id=\"T_d81f6894_71f3_11ea_a3cc_acde48001122row1_col2\" class=\"data row1 col2\" >$41.22</td>\n",
       "            </tr>\n",
       "            <tr>\n",
       "                        <th id=\"T_d81f6894_71f3_11ea_a3cc_acde48001122level0_row2\" class=\"row_heading level0 row2\" >108</th>\n",
       "                        <th id=\"T_d81f6894_71f3_11ea_a3cc_acde48001122level1_row2\" class=\"row_heading level1 row2\" >Extraction, Quickblade Of Trembling Hands</th>\n",
       "                        <td id=\"T_d81f6894_71f3_11ea_a3cc_acde48001122row2_col0\" class=\"data row2 col0\" >9</td>\n",
       "                        <td id=\"T_d81f6894_71f3_11ea_a3cc_acde48001122row2_col1\" class=\"data row2 col1\" >$3.53</td>\n",
       "                        <td id=\"T_d81f6894_71f3_11ea_a3cc_acde48001122row2_col2\" class=\"data row2 col2\" >$31.77</td>\n",
       "            </tr>\n",
       "            <tr>\n",
       "                        <th id=\"T_d81f6894_71f3_11ea_a3cc_acde48001122level0_row3\" class=\"row_heading level0 row3\" >82</th>\n",
       "                        <th id=\"T_d81f6894_71f3_11ea_a3cc_acde48001122level1_row3\" class=\"row_heading level1 row3\" >Nirvana</th>\n",
       "                        <td id=\"T_d81f6894_71f3_11ea_a3cc_acde48001122row3_col0\" class=\"data row3 col0\" >9</td>\n",
       "                        <td id=\"T_d81f6894_71f3_11ea_a3cc_acde48001122row3_col1\" class=\"data row3 col1\" >$4.90</td>\n",
       "                        <td id=\"T_d81f6894_71f3_11ea_a3cc_acde48001122row3_col2\" class=\"data row3 col2\" >$44.10</td>\n",
       "            </tr>\n",
       "            <tr>\n",
       "                        <th id=\"T_d81f6894_71f3_11ea_a3cc_acde48001122level0_row4\" class=\"row_heading level0 row4\" >19</th>\n",
       "                        <th id=\"T_d81f6894_71f3_11ea_a3cc_acde48001122level1_row4\" class=\"row_heading level1 row4\" >Pursuit, Cudgel of Necromancy</th>\n",
       "                        <td id=\"T_d81f6894_71f3_11ea_a3cc_acde48001122row4_col0\" class=\"data row4 col0\" >8</td>\n",
       "                        <td id=\"T_d81f6894_71f3_11ea_a3cc_acde48001122row4_col1\" class=\"data row4 col1\" >$1.02</td>\n",
       "                        <td id=\"T_d81f6894_71f3_11ea_a3cc_acde48001122row4_col2\" class=\"data row4 col2\" >$8.16</td>\n",
       "            </tr>\n",
       "    </tbody></table>"
      ],
      "text/plain": [
       "<pandas.io.formats.style.Styler at 0x123028690>"
      ]
     },
     "execution_count": 238,
     "metadata": {},
     "output_type": "execute_result"
    }
   ],
   "source": [
    "most_pop_group = purchase_data.groupby(['Item ID','Item Name'])\n",
    "                           \n",
    "top_spender_analysis = pd.DataFrame({\"Purchase Count\": (most_pop_group[\"Purchase ID\"].count()),\n",
    "                                \"Item Price\": (most_pop_group[\"Price\"].mean()),\n",
    "                              \"Total Purchase Value\": (most_pop_group[\"Price\"].sum())})\n",
    "top_spender_analysis.sort_values([\"Purchase Count\"], ascending = False).head().style.format({\"Item Price\":\"${:,.2f}\", \"Total Purchase Value\":\"${:,.2f}\"})\n"
   ]
  },
  {
   "cell_type": "markdown",
   "metadata": {},
   "source": [
    "## Most Profitable Items"
   ]
  },
  {
   "cell_type": "markdown",
   "metadata": {},
   "source": [
    "* Sort the above table by total purchase value in descending order\n",
    "\n",
    "\n",
    "* Optional: give the displayed data cleaner formatting\n",
    "\n",
    "\n",
    "* Display a preview of the data frame\n",
    "\n"
   ]
  },
  {
   "cell_type": "code",
   "execution_count": 239,
   "metadata": {
    "scrolled": true
   },
   "outputs": [
    {
     "data": {
      "text/html": [
       "<style  type=\"text/css\" >\n",
       "</style><table id=\"T_df354fea_71f3_11ea_a3cc_acde48001122\" ><thead>    <tr>        <th class=\"blank\" ></th>        <th class=\"blank level0\" ></th>        <th class=\"col_heading level0 col0\" >Purchase Count</th>        <th class=\"col_heading level0 col1\" >Item Price</th>        <th class=\"col_heading level0 col2\" >Total Purchase Value</th>    </tr>    <tr>        <th class=\"index_name level0\" >Item ID</th>        <th class=\"index_name level1\" >Item Name</th>        <th class=\"blank\" ></th>        <th class=\"blank\" ></th>        <th class=\"blank\" ></th>    </tr></thead><tbody>\n",
       "                <tr>\n",
       "                        <th id=\"T_df354fea_71f3_11ea_a3cc_acde48001122level0_row0\" class=\"row_heading level0 row0\" >178</th>\n",
       "                        <th id=\"T_df354fea_71f3_11ea_a3cc_acde48001122level1_row0\" class=\"row_heading level1 row0\" >Oathbreaker, Last Hope of the Breaking Storm</th>\n",
       "                        <td id=\"T_df354fea_71f3_11ea_a3cc_acde48001122row0_col0\" class=\"data row0 col0\" >12</td>\n",
       "                        <td id=\"T_df354fea_71f3_11ea_a3cc_acde48001122row0_col1\" class=\"data row0 col1\" >$4.23</td>\n",
       "                        <td id=\"T_df354fea_71f3_11ea_a3cc_acde48001122row0_col2\" class=\"data row0 col2\" >$50.76</td>\n",
       "            </tr>\n",
       "            <tr>\n",
       "                        <th id=\"T_df354fea_71f3_11ea_a3cc_acde48001122level0_row1\" class=\"row_heading level0 row1\" >82</th>\n",
       "                        <th id=\"T_df354fea_71f3_11ea_a3cc_acde48001122level1_row1\" class=\"row_heading level1 row1\" >Nirvana</th>\n",
       "                        <td id=\"T_df354fea_71f3_11ea_a3cc_acde48001122row1_col0\" class=\"data row1 col0\" >9</td>\n",
       "                        <td id=\"T_df354fea_71f3_11ea_a3cc_acde48001122row1_col1\" class=\"data row1 col1\" >$4.90</td>\n",
       "                        <td id=\"T_df354fea_71f3_11ea_a3cc_acde48001122row1_col2\" class=\"data row1 col2\" >$44.10</td>\n",
       "            </tr>\n",
       "            <tr>\n",
       "                        <th id=\"T_df354fea_71f3_11ea_a3cc_acde48001122level0_row2\" class=\"row_heading level0 row2\" >145</th>\n",
       "                        <th id=\"T_df354fea_71f3_11ea_a3cc_acde48001122level1_row2\" class=\"row_heading level1 row2\" >Fiery Glass Crusader</th>\n",
       "                        <td id=\"T_df354fea_71f3_11ea_a3cc_acde48001122row2_col0\" class=\"data row2 col0\" >9</td>\n",
       "                        <td id=\"T_df354fea_71f3_11ea_a3cc_acde48001122row2_col1\" class=\"data row2 col1\" >$4.58</td>\n",
       "                        <td id=\"T_df354fea_71f3_11ea_a3cc_acde48001122row2_col2\" class=\"data row2 col2\" >$41.22</td>\n",
       "            </tr>\n",
       "            <tr>\n",
       "                        <th id=\"T_df354fea_71f3_11ea_a3cc_acde48001122level0_row3\" class=\"row_heading level0 row3\" >92</th>\n",
       "                        <th id=\"T_df354fea_71f3_11ea_a3cc_acde48001122level1_row3\" class=\"row_heading level1 row3\" >Final Critic</th>\n",
       "                        <td id=\"T_df354fea_71f3_11ea_a3cc_acde48001122row3_col0\" class=\"data row3 col0\" >8</td>\n",
       "                        <td id=\"T_df354fea_71f3_11ea_a3cc_acde48001122row3_col1\" class=\"data row3 col1\" >$4.88</td>\n",
       "                        <td id=\"T_df354fea_71f3_11ea_a3cc_acde48001122row3_col2\" class=\"data row3 col2\" >$39.04</td>\n",
       "            </tr>\n",
       "            <tr>\n",
       "                        <th id=\"T_df354fea_71f3_11ea_a3cc_acde48001122level0_row4\" class=\"row_heading level0 row4\" >103</th>\n",
       "                        <th id=\"T_df354fea_71f3_11ea_a3cc_acde48001122level1_row4\" class=\"row_heading level1 row4\" >Singed Scalpel</th>\n",
       "                        <td id=\"T_df354fea_71f3_11ea_a3cc_acde48001122row4_col0\" class=\"data row4 col0\" >8</td>\n",
       "                        <td id=\"T_df354fea_71f3_11ea_a3cc_acde48001122row4_col1\" class=\"data row4 col1\" >$4.35</td>\n",
       "                        <td id=\"T_df354fea_71f3_11ea_a3cc_acde48001122row4_col2\" class=\"data row4 col2\" >$34.80</td>\n",
       "            </tr>\n",
       "    </tbody></table>"
      ],
      "text/plain": [
       "<pandas.io.formats.style.Styler at 0x1246559d0>"
      ]
     },
     "execution_count": 239,
     "metadata": {},
     "output_type": "execute_result"
    }
   ],
   "source": [
    "top_spender_analysis.sort_values([\"Total Purchase Value\"], ascending = False).head().style.format({\"Item Price\":\"${:,.2f}\", \"Total Purchase Value\":\"${:,.2f}\"})\n"
   ]
  },
  {
   "cell_type": "code",
   "execution_count": null,
   "metadata": {},
   "outputs": [],
   "source": []
  }
 ],
 "metadata": {
  "anaconda-cloud": {},
  "kernel_info": {
   "name": "python3"
  },
  "kernelspec": {
   "display_name": "Python 3",
   "language": "python",
   "name": "python3"
  },
  "language_info": {
   "codemirror_mode": {
    "name": "ipython",
    "version": 3
   },
   "file_extension": ".py",
   "mimetype": "text/x-python",
   "name": "python",
   "nbconvert_exporter": "python",
   "pygments_lexer": "ipython3",
   "version": "3.7.6"
  },
  "latex_envs": {
   "LaTeX_envs_menu_present": true,
   "autoclose": false,
   "autocomplete": true,
   "bibliofile": "biblio.bib",
   "cite_by": "apalike",
   "current_citInitial": 1,
   "eqLabelWithNumbers": true,
   "eqNumInitial": 1,
   "hotkeys": {
    "equation": "Ctrl-E",
    "itemize": "Ctrl-I"
   },
   "labels_anchors": false,
   "latex_user_defs": false,
   "report_style_numbering": false,
   "user_envs_cfg": false
  },
  "nteract": {
   "version": "0.2.0"
  }
 },
 "nbformat": 4,
 "nbformat_minor": 2
}
